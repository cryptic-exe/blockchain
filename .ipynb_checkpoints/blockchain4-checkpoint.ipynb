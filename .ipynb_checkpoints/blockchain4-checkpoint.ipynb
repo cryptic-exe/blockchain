{
 "cells": [
  {
   "cell_type": "code",
   "execution_count": null,
   "metadata": {},
   "outputs": [
    {
     "name": "stdin",
     "output_type": "stream",
     "text": [
      "enter the transaction amount 10\n",
      "enter the transaction amount 11\n"
     ]
    },
    {
     "name": "stdout",
     "output_type": "stream",
     "text": [
      "outputinggg....\n",
      "[[1], 10.0]\n",
      "outputinggg....\n",
      "[[[1], 10.0], 11.0]\n"
     ]
    }
   ],
   "source": [
    "blockchain=[]\n",
    "\n",
    "def lst_transaction():\n",
    "    return blockchain[-1]\n",
    "    \n",
    "def add_value(transaction_amount,last_transaction=[1]):\n",
    "    blockchain.append([last_transaction,transaction_amount])\n",
    "\n",
    "def get_user_input():\n",
    "    return float(input(\"enter the transaction amount\"))\n",
    " \n",
    "txt_amount=get_user_input()\n",
    "add_value(txt_amount)\n",
    "\n",
    "while True:\n",
    "    txt_amount=get_user_input()\n",
    "    add_value(txt_amount,lst_transaction())\n",
    "\n",
    "    \n",
    "    for block in blockchain:\n",
    "        print(\"outputinggg....\")\n",
    "        print(block)\n",
    "\n",
    "print('done!')"
   ]
  },
  {
   "cell_type": "code",
   "execution_count": null,
   "metadata": {},
   "outputs": [],
   "source": [
    "blockchain=[]\n",
    "\n",
    "def lst_transaction():\n",
    "    return blockchain[-1]\n",
    "    \n",
    "def add_value(transaction_amount,last_transaction=[1]):\n",
    "    blockchain.append([last_transaction,transaction_amount])\n",
    "\n",
    "def get_transaction_value():\n",
    "    return float(input(\"enter the transaction amount\"))\n",
    "\n",
    "def get_user_choice():\n",
    "    return input('your choice')\n",
    "\n",
    "def print_blockchain_element():\n",
    "    for block in blockchain:\n",
    "        print(\"outputinggg....\")\n",
    "        print(block)\n",
    "\n",
    "    \n",
    " \n",
    "txt_amount=get_transaction_value()\n",
    "add_value(txt_amount)\n",
    "\n",
    "while True:\n",
    "    print('please choice')\n",
    "    print('1:add new transaction')\n",
    "    print('2:output the blockchain block')\n",
    "    user_choice=get_user_choice()\n",
    "    \n",
    "    if user_choice=='1':\n",
    "        txt_amount=get_transaction_value()\n",
    "        add_value(txt_amount,lst_transaction())\n",
    "    else:\n",
    "        print_blockchain_element()\n",
    "        \n",
    "print('done!')\n"
   ]
  },
  {
   "cell_type": "code",
   "execution_count": null,
   "metadata": {},
   "outputs": [],
   "source": []
  }
 ],
 "metadata": {
  "kernelspec": {
   "display_name": "Python 3",
   "language": "python",
   "name": "python3"
  },
  "language_info": {
   "codemirror_mode": {
    "name": "ipython",
    "version": 3
   },
   "file_extension": ".py",
   "mimetype": "text/x-python",
   "name": "python",
   "nbconvert_exporter": "python",
   "pygments_lexer": "ipython3",
   "version": "3.7.2"
  }
 },
 "nbformat": 4,
 "nbformat_minor": 4
}
