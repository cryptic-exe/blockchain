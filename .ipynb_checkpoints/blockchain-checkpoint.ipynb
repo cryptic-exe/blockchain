{
 "cells": [
  {
   "cell_type": "code",
   "execution_count": 1,
   "metadata": {},
   "outputs": [
    {
     "name": "stdout",
     "output_type": "stream",
     "text": [
      "[1, 2, [2, 2.5]]\n",
      "[1, 2, [2, 2.5], [[2, 2.5], 2.5]]\n"
     ]
    }
   ],
   "source": [
    "blockchain=[1,2]\n",
    "def add_value():\n",
    "    blockchain.append([blockchain[-1],2.5])\n",
    "    print(blockchain)\n",
    "add_value()\n",
    "add_value()"
   ]
  },
  {
   "cell_type": "code",
   "execution_count": 2,
   "metadata": {},
   "outputs": [
    {
     "name": "stdout",
     "output_type": "stream",
     "text": [
      "[1, [1, 0.9]]\n",
      "[1, [1, 0.9], [[1, 0.9], 9.5]]\n",
      "[1, [1, 0.9], [[1, 0.9], 9.5], [[[1, 0.9], 9.5], 10]]\n"
     ]
    }
   ],
   "source": [
    "#add argument to a function\n",
    "blockchain=[1]\n",
    "\n",
    "def add_value(transaction_amount):\n",
    "    blockchain.append([blockchain[-1],transaction_amount])\n",
    "    print(blockchain)\n",
    "    \n",
    "add_value(0.9)\n",
    "add_value(9.5)\n",
    "add_value(10)"
   ]
  },
  {
   "cell_type": "code",
   "execution_count": 3,
   "metadata": {},
   "outputs": [
    {
     "name": "stdout",
     "output_type": "stream",
     "text": [
      "[1, [1, 0.9], [[1, 0.9], 9.5], [[[1, 0.9], 9.5], 10]]\n"
     ]
    }
   ],
   "source": [
    "#add argument to a function\n",
    "blockchain=[1]\n",
    "\n",
    "def add_value(transaction_amount):\n",
    "    blockchain.append([blockchain[-1],transaction_amount])\n",
    "    \n",
    "add_value(0.9)\n",
    "add_value(9.5)\n",
    "add_value(10)\n",
    "\n",
    "print(blockchain)"
   ]
  },
  {
   "cell_type": "code",
   "execution_count": 4,
   "metadata": {},
   "outputs": [
    {
     "name": "stdout",
     "output_type": "stream",
     "text": [
      "[1, [1, 0.9], [[1, 0.9], 9.5], [[[1, 0.9], 9.5], 10]]\n"
     ]
    }
   ],
   "source": [
    "blockchain=[1]\n",
    "\n",
    "def lst_transaction():\n",
    "    return blockchain[-1]\n",
    "    \n",
    "def add_value(transaction_amount):\n",
    "    blockchain.append([lst_transaction(),transaction_amount])\n",
    "    \n",
    "add_value(0.9)\n",
    "add_value(9.5)\n",
    "add_value(10)\n",
    "\n",
    "print(blockchain)"
   ]
  },
  {
   "cell_type": "code",
   "execution_count": 5,
   "metadata": {},
   "outputs": [
    {
     "name": "stdout",
     "output_type": "stream",
     "text": [
      "[[[1], 0.9], [[[1], 0.9], 9.5], [[[[1], 0.9], 9.5], 10]]\n"
     ]
    }
   ],
   "source": [
    "blockchain=[]\n",
    "\n",
    "def lst_transaction():\n",
    "    return blockchain[-1]\n",
    "    \n",
    "def add_value(transaction_amount,last_transaction=[1]):\n",
    "    blockchain.append([last_transaction,transaction_amount])\n",
    "    \n",
    "add_value(0.9)\n",
    "add_value(9.5,lst_transaction())\n",
    "add_value(10,lst_transaction())\n",
    "\n",
    "print(blockchain)"
   ]
  },
  {
   "cell_type": "code",
   "execution_count": 6,
   "metadata": {},
   "outputs": [
    {
     "name": "stdout",
     "output_type": "stream",
     "text": [
      "[[[1], 0.9], [[[1], 0.9], 9.5], [[[[1], 0.9], 9.5], 10]]\n"
     ]
    }
   ],
   "source": [
    "blockchain=[]\n",
    "\n",
    "def lst_transaction():\n",
    "    return blockchain[-1]\n",
    "    \n",
    "def add_value(transaction_amount,last_transaction=[1]):\n",
    "    blockchain.append([last_transaction,transaction_amount])\n",
    "    \n",
    "add_value(0.9)\n",
    "add_value(last_transaction=lst_transaction(),transaction_amount=9.5)\n",
    "add_value(10,lst_transaction())\n",
    "\n",
    "print(blockchain)"
   ]
  },
  {
   "cell_type": "raw",
   "metadata": {},
   "source": []
  },
  {
   "cell_type": "code",
   "execution_count": 7,
   "metadata": {},
   "outputs": [
    {
     "name": "stdin",
     "output_type": "stream",
     "text": [
      "enter the transaction amount 10\n",
      "enter the transaction amount 20\n",
      "enter the transaction amount 30\n"
     ]
    },
    {
     "name": "stdout",
     "output_type": "stream",
     "text": [
      "[[[1], 10.0], [[[1], 10.0], 20.0], [[[[1], 10.0], 20.0], 30.0]]\n"
     ]
    }
   ],
   "source": [
    "blockchain=[]\n",
    "\n",
    "def lst_transaction():\n",
    "    return blockchain[-1]\n",
    "    \n",
    "def add_value(transaction_amount,last_transaction=[1]):\n",
    "    blockchain.append([last_transaction,transaction_amount])\n",
    "\n",
    "def get_user_input():\n",
    "    return float(input(\"enter the transaction amount\"))\n",
    " \n",
    "txt_amount=get_user_input()\n",
    "add_value(txt_amount)\n",
    "txt_amount=get_user_input()\n",
    "add_value(last_transaction=lst_transaction(),transaction_amount=txt_amount)\n",
    "txt_amount=get_user_input()\n",
    "add_value(txt_amount,lst_transaction())\n",
    "\n",
    "print(blockchain)"
   ]
  },
  {
   "cell_type": "code",
   "execution_count": 8,
   "metadata": {},
   "outputs": [
    {
     "name": "stdin",
     "output_type": "stream",
     "text": [
      "enter the transaction amount 10\n",
      "enter the transaction amount 20\n",
      "enter the transaction amount 30\n"
     ]
    },
    {
     "name": "stdout",
     "output_type": "stream",
     "text": [
      "outputinggg....\n",
      "[[1], 10.0]\n",
      "outputinggg....\n",
      "[[[1], 10.0], 20.0]\n",
      "outputinggg....\n",
      "[[[[1], 10.0], 20.0], 30.0]\n",
      "done!\n"
     ]
    }
   ],
   "source": [
    "blockchain=[]\n",
    "\n",
    "def lst_transaction():\n",
    "    return blockchain[-1]\n",
    "    \n",
    "def add_value(transaction_amount,last_transaction=[1]):\n",
    "    blockchain.append([last_transaction,transaction_amount])\n",
    "\n",
    "def get_user_input():\n",
    "    return float(input(\"enter the transaction amount\"))\n",
    " \n",
    "txt_amount=get_user_input()\n",
    "add_value(txt_amount)\n",
    "txt_amount=get_user_input()\n",
    "add_value(last_transaction=lst_transaction(),transaction_amount=txt_amount)\n",
    "txt_amount=get_user_input()\n",
    "add_value(txt_amount,lst_transaction())\n",
    "\n",
    "for block in blockchain:\n",
    "    print(\"outputinggg....\")\n",
    "    print(block)\n",
    "\n",
    "print('done!')"
   ]
  },
  {
   "cell_type": "code",
   "execution_count": null,
   "metadata": {},
   "outputs": [
    {
     "name": "stdin",
     "output_type": "stream",
     "text": [
      "enter the transaction amount 10\n",
      "enter the transaction amount 20\n"
     ]
    },
    {
     "name": "stdout",
     "output_type": "stream",
     "text": [
      "outputinggg....\n",
      "[[1], 10.0]\n",
      "outputinggg....\n",
      "[[[1], 10.0], 20.0]\n"
     ]
    },
    {
     "name": "stdin",
     "output_type": "stream",
     "text": [
      "enter the transaction amount 30\n"
     ]
    },
    {
     "name": "stdout",
     "output_type": "stream",
     "text": [
      "outputinggg....\n",
      "[[1], 10.0]\n",
      "outputinggg....\n",
      "[[[1], 10.0], 20.0]\n",
      "outputinggg....\n",
      "[[[[1], 10.0], 20.0], 30.0]\n"
     ]
    },
    {
     "name": "stdin",
     "output_type": "stream",
     "text": [
      "enter the transaction amount 40\n"
     ]
    },
    {
     "name": "stdout",
     "output_type": "stream",
     "text": [
      "outputinggg....\n",
      "[[1], 10.0]\n",
      "outputinggg....\n",
      "[[[1], 10.0], 20.0]\n",
      "outputinggg....\n",
      "[[[[1], 10.0], 20.0], 30.0]\n",
      "outputinggg....\n",
      "[[[[[1], 10.0], 20.0], 30.0], 40.0]\n"
     ]
    },
    {
     "name": "stdin",
     "output_type": "stream",
     "text": [
      "enter the transaction amount 50\n"
     ]
    },
    {
     "name": "stdout",
     "output_type": "stream",
     "text": [
      "outputinggg....\n",
      "[[1], 10.0]\n",
      "outputinggg....\n",
      "[[[1], 10.0], 20.0]\n",
      "outputinggg....\n",
      "[[[[1], 10.0], 20.0], 30.0]\n",
      "outputinggg....\n",
      "[[[[[1], 10.0], 20.0], 30.0], 40.0]\n",
      "outputinggg....\n",
      "[[[[[[1], 10.0], 20.0], 30.0], 40.0], 50.0]\n"
     ]
    },
    {
     "name": "stdin",
     "output_type": "stream",
     "text": [
      "enter the transaction amount 60\n"
     ]
    },
    {
     "name": "stdout",
     "output_type": "stream",
     "text": [
      "outputinggg....\n",
      "[[1], 10.0]\n",
      "outputinggg....\n",
      "[[[1], 10.0], 20.0]\n",
      "outputinggg....\n",
      "[[[[1], 10.0], 20.0], 30.0]\n",
      "outputinggg....\n",
      "[[[[[1], 10.0], 20.0], 30.0], 40.0]\n",
      "outputinggg....\n",
      "[[[[[[1], 10.0], 20.0], 30.0], 40.0], 50.0]\n",
      "outputinggg....\n",
      "[[[[[[[1], 10.0], 20.0], 30.0], 40.0], 50.0], 60.0]\n"
     ]
    },
    {
     "name": "stdin",
     "output_type": "stream",
     "text": [
      "enter the transaction amount 30\n"
     ]
    },
    {
     "name": "stdout",
     "output_type": "stream",
     "text": [
      "outputinggg....\n",
      "[[1], 10.0]\n",
      "outputinggg....\n",
      "[[[1], 10.0], 20.0]\n",
      "outputinggg....\n",
      "[[[[1], 10.0], 20.0], 30.0]\n",
      "outputinggg....\n",
      "[[[[[1], 10.0], 20.0], 30.0], 40.0]\n",
      "outputinggg....\n",
      "[[[[[[1], 10.0], 20.0], 30.0], 40.0], 50.0]\n",
      "outputinggg....\n",
      "[[[[[[[1], 10.0], 20.0], 30.0], 40.0], 50.0], 60.0]\n",
      "outputinggg....\n",
      "[[[[[[[[1], 10.0], 20.0], 30.0], 40.0], 50.0], 60.0], 30.0]\n"
     ]
    }
   ],
   "source": [
    "blockchain=[]\n",
    "\n",
    "def lst_transaction():\n",
    "    return blockchain[-1]\n",
    "    \n",
    "def add_value(transaction_amount,last_transaction=[1]):\n",
    "    blockchain.append([last_transaction,transaction_amount])\n",
    "\n",
    "def get_user_input():\n",
    "    return float(input(\"enter the transaction amount\"))\n",
    " \n",
    "txt_amount=get_user_input()\n",
    "add_value(txt_amount)\n",
    "\n",
    "while True:\n",
    "    txt_amount=get_user_input()\n",
    "    add_value(txt_amount,lst_transaction())\n",
    "\n",
    "    \n",
    "    for block in blockchain:\n",
    "        print(\"outputinggg....\")\n",
    "        print(block)\n",
    "\n",
    "print('done!')"
   ]
  },
  {
   "cell_type": "code",
   "execution_count": null,
   "metadata": {},
   "outputs": [],
   "source": [
    "blockchain=[]\n",
    "\n",
    "def lst_transaction():\n",
    "    return blockchain[-1]\n",
    "    \n",
    "def add_value(transaction_amount,last_transaction=[1]):\n",
    "    blockchain.append([last_transaction,transaction_amount])\n",
    "\n",
    "def get_transaction_value():\n",
    "    return float(input(\"enter the transaction amount\"))\n",
    "\n",
    "def get_user_choice():\n",
    "    return input('your choice')\n",
    "\n",
    "def print_blockchain_element():\n",
    "    for block in blockchain:\n",
    "        print(\"outputinggg....\")\n",
    "        print(block)\n",
    "\n",
    "    \n",
    " \n",
    "txt_amount=get_transaction_value()\n",
    "add_value(txt_amount)\n",
    "\n",
    "while True:\n",
    "    print('please choice')\n",
    "    print('1:add new transaction')\n",
    "    print('2:output the blockchain block')\n",
    "    user_choice=get_user_choice()\n",
    "    \n",
    "    if user_choice=='1':\n",
    "        txt_amount=get_transaction_value()\n",
    "        add_value(txt_amount,lst_transaction())\n",
    "    else:\n",
    "        print_blockchain_element()\n",
    "        \n",
    "print('done!')"
   ]
  },
  {
   "cell_type": "code",
   "execution_count": null,
   "metadata": {},
   "outputs": [],
   "source": []
  }
 ],
 "metadata": {
  "kernelspec": {
   "display_name": "Python 3",
   "language": "python",
   "name": "python3"
  },
  "language_info": {
   "codemirror_mode": {
    "name": "ipython",
    "version": 3
   },
   "file_extension": ".py",
   "mimetype": "text/x-python",
   "name": "python",
   "nbconvert_exporter": "python",
   "pygments_lexer": "ipython3",
   "version": "3.7.4"
  }
 },
 "nbformat": 4,
 "nbformat_minor": 4
}
